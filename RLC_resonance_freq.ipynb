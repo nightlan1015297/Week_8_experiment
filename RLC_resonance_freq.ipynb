{
 "cells": [
  {
   "cell_type": "code",
   "execution_count": 3,
   "metadata": {},
   "outputs": [],
   "source": [
    "import plotly.graph_objects as go\n",
    "import os\n",
    "import math\n",
    "import numpy as np\n"
   ]
  },
  {
   "cell_type": "code",
   "execution_count": 4,
   "metadata": {},
   "outputs": [],
   "source": [
    "def read_file(src):\n",
    "    ch1_file = open(os.path.join(src))\n",
    "\n",
    "    ch1 = ch1_file.read()\n",
    "\n",
    "    ch1_file.close()\n",
    "    \n",
    "    ch1_lines = ch1.strip().split('\\n')\n",
    "\n",
    "    parsed_data = {}\n",
    "\n",
    "    for i in range(23):\n",
    "        key,value = ch1_lines[i].strip().split(',')[:2]\n",
    "        parsed_data[key] = value\n",
    "    \n",
    "    volt = []\n",
    "\n",
    "    for i in ch1_lines[25:]:\n",
    "        try:\n",
    "            volt.append(float(i.strip().split(',')[0]))        \n",
    "        except:\n",
    "            print('bad parsing data'+i)\n",
    "        \n",
    "    parsed_data['volt'] = volt\n",
    "    return (parsed_data)\n"
   ]
  },
  {
   "cell_type": "markdown",
   "metadata": {},
   "source": [
    "# RLC resonance graph (ref Volt vs Frequency)"
   ]
  },
  {
   "cell_type": "code",
   "execution_count": 5,
   "metadata": {},
   "outputs": [],
   "source": [
    "src_1 = './RLC_R_11.91'\n",
    "src_2 = './RLC_R_993.9'\n",
    "src_3 = './RLC_R_2200'\n",
    "\n",
    "data_1 = []\n",
    "for i in os.listdir(src_1):\n",
    "    channels = {'ch1':'','ch2':''}\n",
    "    channels['ch1'] = read_file(os.path.join(src_1,i,'1.CSV'))\n",
    "    channels['ch2'] = read_file(os.path.join(src_1,i,'2.CSV'))\n",
    "    data_1.append(channels)\n",
    "volt_amp_1 = []\n",
    "for i in range(len(data_1)):\n",
    "    ch1_div = float(data_1[i]['ch1']['Vertical Scale'])\n",
    "    ch2_div = float(data_1[i]['ch2']['Vertical Scale'])\n",
    "\n",
    "    _in = max(data_1[i]['ch1']['volt'])*ch1_div/32\n",
    "    _out= max(data_1[i]['ch2']['volt'])*ch2_div/32 \n",
    "    volt_amp_1.append(_out/_in)\n",
    "\n",
    "data_2 = []\n",
    "for i in os.listdir(src_2):\n",
    "    channels = {'ch1':'','ch2':''}\n",
    "    channels['ch1'] = read_file(os.path.join(src_2,i,'1.CSV'))\n",
    "    channels['ch2'] = read_file(os.path.join(src_2,i,'2.CSV'))\n",
    "    data_2.append(channels)\n",
    "volt_amp_2 = []\n",
    "for i in range(len(data_2)):\n",
    "    ch1_div = float(data_2[i]['ch1']['Vertical Scale'])\n",
    "    ch2_div = float(data_2[i]['ch2']['Vertical Scale'])\n",
    "\n",
    "    _in = max(data_2[i]['ch1']['volt'])*ch1_div/32\n",
    "    _out= max(data_2[i]['ch2']['volt'])*ch2_div/32 \n",
    "    volt_amp_2.append(_out/_in)\n",
    "\n",
    "data_3 = []\n",
    "for i in os.listdir(src_3):\n",
    "    channels = {'ch1':'','ch2':''}\n",
    "    channels['ch1'] = read_file(os.path.join(src_3,i,'1.CSV'))\n",
    "    channels['ch2'] = read_file(os.path.join(src_3,i,'2.CSV'))\n",
    "    data_3.append(channels)\n",
    "volt_amp_3 = []\n",
    "for i in range(len(data_3)):\n",
    "    ch1_div = float(data_3[i]['ch1']['Vertical Scale'])\n",
    "    ch2_div = float(data_3[i]['ch2']['Vertical Scale'])\n",
    "\n",
    "    _in = max(data_3[i]['ch1']['volt'])*ch1_div/32\n",
    "    _out= max(data_3[i]['ch2']['volt'])*ch2_div/32 \n",
    "    volt_amp_3.append(_out/_in)\n",
    "\n",
    "frequency_1 = [2000+i*200 for i in range(26)]\n",
    "frequency_2 = [1000+i*200 for i in range(41)]\n",
    "frequency_3 = [3000+i*2000 for i in range(33)]\n",
    "trace_1 = go.Scattergl(\n",
    "    x=frequency_1,\n",
    "    y=volt_amp_1,\n",
    "    mode='markers',\n",
    "    name= 'R = 11.91 , Q = 254.43 ' ,\n",
    ")\n",
    "trace_2 = go.Scattergl(\n",
    "    x=frequency_2,\n",
    "    y=volt_amp_2,\n",
    "    mode='markers',\n",
    "    name= 'R = 993.9 , Q = 3.05 ' ,\n",
    ")\n",
    "trace_3 = go.Scattergl(\n",
    "    x=frequency_3,\n",
    "    y=volt_amp_3,\n",
    "    mode='markers',\n",
    "    name= 'R = 2200 , Q = 1.37 ' ,\n",
    ")\n",
    "\n",
    "fig = go.Figure()\n",
    "fig.add_trace(trace_1)\n",
    "fig.add_trace(trace_2)\n",
    "fig.add_trace(trace_3)\n",
    "\n",
    "\n",
    "Xaxis_title = \"Frequency\"\n",
    "Yaxis_title = \"Amp ( Vout / Vin )\"\n",
    "fig['layout'].update(xaxis_title=Xaxis_title,\n",
    "                        yaxis_title=Yaxis_title,\n",
    "                        legend_title='sources',\n",
    "                        font=dict(family='Microsoft JhengHei', size=18,), xaxis=dict(tickangle=0)\n",
    "                        )\n",
    "\n",
    "fig.write_html('RLC_resonance_refvolt.html', auto_open=True)\n"
   ]
  },
  {
   "cell_type": "markdown",
   "metadata": {},
   "source": [
    "# RLC resonance graph (abs volt)"
   ]
  },
  {
   "cell_type": "code",
   "execution_count": 6,
   "metadata": {},
   "outputs": [],
   "source": [
    "src_1 = './RLC_R_11.91'\n",
    "src_2 = './RLC_R_993.9'\n",
    "src_3 = './RLC_R_2200'\n",
    "\n",
    "data_1 = []\n",
    "for i in os.listdir(src_1):\n",
    "    channels = {'ch1':'','ch2':''}\n",
    "    channels['ch1'] = read_file(os.path.join(src_1,i,'1.CSV'))\n",
    "    channels['ch2'] = read_file(os.path.join(src_1,i,'2.CSV'))\n",
    "    data_1.append(channels)\n",
    "volt_amp_1 = []\n",
    "for i in range(len(data_1)):\n",
    "    ch1_div = float(data_1[i]['ch1']['Vertical Scale'])\n",
    "    ch2_div = float(data_1[i]['ch2']['Vertical Scale'])\n",
    "\n",
    "    _out= max(data_1[i]['ch2']['volt'])*ch2_div/32 \n",
    "    volt_amp_1.append(_out)\n",
    "\n",
    "data_2 = []\n",
    "for i in os.listdir(src_2):\n",
    "    channels = {'ch1':'','ch2':''}\n",
    "    channels['ch1'] = read_file(os.path.join(src_2,i,'1.CSV'))\n",
    "    channels['ch2'] = read_file(os.path.join(src_2,i,'2.CSV'))\n",
    "    data_2.append(channels)\n",
    "volt_amp_2 = []\n",
    "for i in range(len(data_2)):\n",
    "    ch1_div = float(data_2[i]['ch1']['Vertical Scale'])\n",
    "    ch2_div = float(data_2[i]['ch2']['Vertical Scale'])\n",
    "\n",
    "    _out= max(data_2[i]['ch2']['volt'])*ch2_div/32 \n",
    "    volt_amp_2.append(_out)\n",
    "\n",
    "data_3 = []\n",
    "for i in os.listdir(src_3):\n",
    "    channels = {'ch1':'','ch2':''}\n",
    "    channels['ch1'] = read_file(os.path.join(src_3,i,'1.CSV'))\n",
    "    channels['ch2'] = read_file(os.path.join(src_3,i,'2.CSV'))\n",
    "    data_3.append(channels)\n",
    "volt_amp_3 = []\n",
    "for i in range(len(data_3)):\n",
    "    ch1_div = float(data_3[i]['ch1']['Vertical Scale'])\n",
    "    ch2_div = float(data_3[i]['ch2']['Vertical Scale'])\n",
    "\n",
    "    _out= max(data_3[i]['ch2']['volt'])*ch2_div/32 \n",
    "    volt_amp_3.append(_out)\n",
    "\n",
    "frequency_1 = [2000+i*200 for i in range(26)]\n",
    "frequency_2 = [1000+i*200 for i in range(41)]\n",
    "frequency_3 = [3000+i*2000 for i in range(33)]\n",
    "trace_1 = go.Scattergl(\n",
    "    x=frequency_1,\n",
    "    y=volt_amp_1,\n",
    "    mode='markers',\n",
    "    name= 'R = 11.91 , Q = 254.43 ' ,\n",
    ")\n",
    "trace_2 = go.Scattergl(\n",
    "    x=frequency_2,\n",
    "    y=volt_amp_2,\n",
    "    mode='markers',\n",
    "    name= 'R = 993.9 , Q = 3.05 ' ,\n",
    ")\n",
    "trace_3 = go.Scattergl(\n",
    "    x=frequency_3,\n",
    "    y=volt_amp_3,\n",
    "    mode='markers',\n",
    "    name= 'R = 2200 , Q = 1.37 ' ,\n",
    ")\n",
    "\n",
    "fig = go.Figure()\n",
    "fig.add_trace(trace_1)\n",
    "fig.add_trace(trace_2)\n",
    "fig.add_trace(trace_3)\n",
    "\n",
    "\n",
    "Xaxis_title = \"Frequency\"\n",
    "Yaxis_title = \"Volt ( V_R )\"\n",
    "fig['layout'].update(xaxis_title=Xaxis_title,\n",
    "                        yaxis_title=Yaxis_title,\n",
    "                        legend_title='sources',\n",
    "                        font=dict(family='Microsoft JhengHei', size=18,), xaxis=dict(tickangle=0)\n",
    "                        )\n",
    "\n",
    "fig.write_html('RLC_resonance_absvolt.html', auto_open=True)\n"
   ]
  },
  {
   "cell_type": "markdown",
   "metadata": {},
   "source": [
    "# RLC resonance graph (Current)"
   ]
  },
  {
   "cell_type": "code",
   "execution_count": 7,
   "metadata": {},
   "outputs": [],
   "source": [
    "src_1 = './RLC_R_11.91'\n",
    "src_2 = './RLC_R_993.9'\n",
    "src_3 = './RLC_R_2200'\n",
    "\n",
    "data_1 = []\n",
    "for i in os.listdir(src_1):\n",
    "    channels = {'ch1':'','ch2':''}\n",
    "    channels['ch1'] = read_file(os.path.join(src_1,i,'1.CSV'))\n",
    "    channels['ch2'] = read_file(os.path.join(src_1,i,'2.CSV'))\n",
    "    data_1.append(channels)\n",
    "volt_amp_1 = []\n",
    "for i in range(len(data_1)):\n",
    "    ch1_div = float(data_1[i]['ch1']['Vertical Scale'])\n",
    "    ch2_div = float(data_1[i]['ch2']['Vertical Scale'])\n",
    "\n",
    "    _out= max(data_1[i]['ch2']['volt'])*ch2_div/32 \n",
    "    volt_amp_1.append(_out/11.91)\n",
    "\n",
    "data_2 = []\n",
    "for i in os.listdir(src_2):\n",
    "    channels = {'ch1':'','ch2':''}\n",
    "    channels['ch1'] = read_file(os.path.join(src_2,i,'1.CSV'))\n",
    "    channels['ch2'] = read_file(os.path.join(src_2,i,'2.CSV'))\n",
    "    data_2.append(channels)\n",
    "volt_amp_2 = []\n",
    "for i in range(len(data_2)):\n",
    "    ch1_div = float(data_2[i]['ch1']['Vertical Scale'])\n",
    "    ch2_div = float(data_2[i]['ch2']['Vertical Scale'])\n",
    "\n",
    "    _out= max(data_2[i]['ch2']['volt'])*ch2_div/32 \n",
    "    volt_amp_2.append(_out/993.9)\n",
    "\n",
    "data_3 = []\n",
    "for i in os.listdir(src_3):\n",
    "    channels = {'ch1':'','ch2':''}\n",
    "    channels['ch1'] = read_file(os.path.join(src_3,i,'1.CSV'))\n",
    "    channels['ch2'] = read_file(os.path.join(src_3,i,'2.CSV'))\n",
    "    data_3.append(channels)\n",
    "volt_amp_3 = []\n",
    "for i in range(len(data_3)):\n",
    "    ch1_div = float(data_3[i]['ch1']['Vertical Scale'])\n",
    "    ch2_div = float(data_3[i]['ch2']['Vertical Scale'])\n",
    "\n",
    "    _out= max(data_3[i]['ch2']['volt'])*ch2_div/32 \n",
    "    volt_amp_3.append(_out/2200)\n",
    "\n",
    "frequency_1 = [2000+i*200 for i in range(26)]\n",
    "frequency_2 = [1000+i*200 for i in range(41)]\n",
    "frequency_3 = [3000+i*2000 for i in range(33)]\n",
    "trace_1 = go.Scattergl(\n",
    "    x=frequency_1,\n",
    "    y=volt_amp_1,\n",
    "    mode='markers',\n",
    "    name= 'R = 11.91 , Q = 254.43 ' ,\n",
    ")\n",
    "trace_2 = go.Scattergl(\n",
    "    x=frequency_2,\n",
    "    y=volt_amp_2,\n",
    "    mode='markers',\n",
    "    name= 'R = 993.9 , Q = 3.05 ' ,\n",
    ")\n",
    "trace_3 = go.Scattergl(\n",
    "    x=frequency_3,\n",
    "    y=volt_amp_3,\n",
    "    mode='markers',\n",
    "    name= 'R = 2200 , Q = 1.37 ' ,\n",
    ")\n",
    "\n",
    "fig = go.Figure()\n",
    "fig.add_trace(trace_1)\n",
    "fig.add_trace(trace_2)\n",
    "fig.add_trace(trace_3)\n",
    "\n",
    "\n",
    "Xaxis_title = \"Frequency\"\n",
    "Yaxis_title = \"Current Amp (A)\"\n",
    "fig['layout'].update(xaxis_title=Xaxis_title,\n",
    "                        yaxis_title=Yaxis_title,\n",
    "                        legend_title='sources',\n",
    "                        font=dict(family='Microsoft JhengHei', size=18,), xaxis=dict(tickangle=0)\n",
    "                        )\n",
    "\n",
    "fig.write_html('RLC_resonance_current.html', auto_open=True)\n"
   ]
  },
  {
   "cell_type": "markdown",
   "metadata": {},
   "source": [
    "# Curve fitting"
   ]
  },
  {
   "cell_type": "code",
   "execution_count": 8,
   "metadata": {},
   "outputs": [],
   "source": [
    "import numpy as np\n",
    "from scipy.optimize import curve_fit\n",
    "\n",
    "# Load data \n",
    "\n",
    "src_1 = './RLC_R_11.91'\n",
    "src_2 = './RLC_R_993.9'\n",
    "src_3 = './RLC_R_2200'\n",
    "\n",
    "data_1 = []\n",
    "for i in os.listdir(src_1):\n",
    "    channels = {'ch1':'','ch2':''}\n",
    "    channels['ch1'] = read_file(os.path.join(src_1,i,'1.CSV'))\n",
    "    channels['ch2'] = read_file(os.path.join(src_1,i,'2.CSV'))\n",
    "    data_1.append(channels)\n",
    "\n",
    "volt_amp_1 = []\n",
    "curr_amp_1 = []\n",
    "for i in range(len(data_1)):\n",
    "    ch1_div = float(data_1[i]['ch1']['Vertical Scale'])\n",
    "    ch2_div = float(data_1[i]['ch2']['Vertical Scale'])\n",
    "\n",
    "    _in = max(data_1[i]['ch1']['volt'])*ch1_div/32\n",
    "    _out= max(data_1[i]['ch2']['volt'])*ch2_div/32 \n",
    "    curr_amp_1.append(_out/11.91)\n",
    "    volt_amp_1.append(_in)\n",
    "\n",
    "data_2 = []\n",
    "for i in os.listdir(src_2):\n",
    "    channels = {'ch1':'','ch2':''}\n",
    "    channels['ch1'] = read_file(os.path.join(src_2,i,'1.CSV'))\n",
    "    channels['ch2'] = read_file(os.path.join(src_2,i,'2.CSV'))\n",
    "    data_2.append(channels)\n",
    "\n",
    "volt_amp_2 = []\n",
    "curr_amp_2 = []\n",
    "for i in range(len(data_2)):\n",
    "    ch1_div = float(data_2[i]['ch1']['Vertical Scale'])\n",
    "    ch2_div = float(data_2[i]['ch2']['Vertical Scale'])\n",
    "\n",
    "    _in = max(data_2[i]['ch1']['volt'])*ch1_div/32\n",
    "    _out= max(data_2[i]['ch2']['volt'])*ch2_div/32 \n",
    "    curr_amp_2.append(_out/993.9)\n",
    "    volt_amp_2.append(_in)\n",
    "\n",
    "data_3 = []\n",
    "for i in os.listdir(src_3):\n",
    "    channels = {'ch1':'','ch2':''}\n",
    "    channels['ch1'] = read_file(os.path.join(src_3,i,'1.CSV'))\n",
    "    channels['ch2'] = read_file(os.path.join(src_3,i,'2.CSV'))\n",
    "    data_3.append(channels)\n",
    "\n",
    "volt_amp_3 = []\n",
    "curr_amp_3 = []\n",
    "for i in range(len(data_3)):\n",
    "    ch1_div = float(data_3[i]['ch1']['Vertical Scale'])\n",
    "    ch2_div = float(data_3[i]['ch2']['Vertical Scale'])\n",
    "\n",
    "    _in = max(data_3[i]['ch1']['volt'])*ch1_div/32\n",
    "    _out= max(data_3[i]['ch2']['volt'])*ch2_div/32 \n",
    "    curr_amp_3.append(_out/2200)\n",
    "    volt_amp_3.append(_in)\n",
    "\n",
    "frequency_1 = [2000+i*200 for i in range(26)]\n",
    "frequency_2 = [1000+i*200 for i in range(41)]\n",
    "frequency_3 = [3000+i*2000 for i in range(33)]"
   ]
  },
  {
   "cell_type": "code",
   "execution_count": 9,
   "metadata": {},
   "outputs": [
    {
     "name": "stdout",
     "output_type": "stream",
     "text": [
      "[8.4375, 8.75, 8.75, 8.75, 8.75, 8.75, 8.75, 8.75, 8.75, 8.75, 8.75, 8.75, 8.125, 7.5, 8.125, 8.75, 8.75, 8.75, 8.75, 8.75, 8.75, 8.75, 8.75, 8.75, 8.75, 8.75]\n"
     ]
    }
   ],
   "source": [
    "print(volt_amp_1)"
   ]
  },
  {
   "cell_type": "code",
   "execution_count": 10,
   "metadata": {},
   "outputs": [],
   "source": [
    "curr_amp_1 = [curr_amp_1[i] for i in range(len(curr_amp_1)) if volt_amp_1[i] == 8.75]\n",
    "frequency_1 = [frequency_1[i] for i in range(len(frequency_1)) if volt_amp_1[i] == 8.75]"
   ]
  },
  {
   "cell_type": "code",
   "execution_count": 11,
   "metadata": {},
   "outputs": [
    {
     "name": "stdout",
     "output_type": "stream",
     "text": [
      "[8.75, 8.75, 8.75, 8.75, 8.75, 8.75, 8.75, 8.75, 8.75, 8.75, 8.75, 8.75, 8.75, 8.75, 8.75, 8.75, 8.75, 8.75, 8.125, 8.125, 8.75, 8.75, 8.75, 8.75, 8.75, 8.75, 8.75, 8.75, 8.75, 8.75, 8.75, 8.125, 8.75, 8.75, 8.75, 8.75, 8.75, 8.75, 8.75, 8.75, 8.75]\n"
     ]
    }
   ],
   "source": [
    "print(volt_amp_2)"
   ]
  },
  {
   "cell_type": "code",
   "execution_count": 12,
   "metadata": {},
   "outputs": [],
   "source": [
    "curr_amp_2 = [curr_amp_2[i] for i in range(len(curr_amp_2)) if volt_amp_2[i] == 8.75]\n",
    "frequency_2 = [frequency_2[i] for i in range(len(frequency_2)) if volt_amp_2[i] == 8.75]"
   ]
  },
  {
   "cell_type": "code",
   "execution_count": 13,
   "metadata": {},
   "outputs": [
    {
     "name": "stdout",
     "output_type": "stream",
     "text": [
      "[8.75, 8.75, 8.75, 8.75, 9.0625, 9.0625, 8.75, 8.75, 8.75, 8.75, 8.75, 8.75, 8.75, 8.75, 8.75, 8.75, 8.75, 8.75, 8.75, 8.75, 8.75, 8.75, 8.75, 8.75, 8.75, 8.75, 8.75, 8.75, 8.75, 8.75, 8.75, 8.75, 8.75]\n"
     ]
    }
   ],
   "source": [
    "print(volt_amp_3)"
   ]
  },
  {
   "cell_type": "code",
   "execution_count": 14,
   "metadata": {},
   "outputs": [],
   "source": [
    "curr_amp_3 = [curr_amp_3[i] for i in range(len(curr_amp_3)) if volt_amp_3[i] == 8.75]\n",
    "frequency_3 = [frequency_3[i] for i in range(len(frequency_3)) if volt_amp_3[i] == 8.75]"
   ]
  },
  {
   "cell_type": "markdown",
   "metadata": {},
   "source": [
    "### Curv fitting\n",
    "`CAUTION : THIS SECTION IS NOT WORKING WELL`"
   ]
  },
  {
   "cell_type": "code",
   "execution_count": 15,
   "metadata": {},
   "outputs": [],
   "source": [
    "def f(x,R,L,C):\n",
    "    X_c = 1/(2*np.pi*x*C)\n",
    "    X_l = 2*np.pi*x*L\n",
    "    return 8.75/np.sqrt(R**2+(X_l**2-X_c**2)**2)"
   ]
  },
  {
   "cell_type": "code",
   "execution_count": 16,
   "metadata": {},
   "outputs": [
    {
     "name": "stdout",
     "output_type": "stream",
     "text": [
      "[1.1910e+01 9.3270e-02 1.0157e-08]\n",
      "[[ 0.00000000e+00  0.00000000e+00  0.00000000e+00]\n",
      " [ 0.00000000e+00  1.23667978e-01 -5.68702144e-08]\n",
      " [ 0.00000000e+00 -5.68702144e-08  3.41963179e-14]]\n"
     ]
    }
   ],
   "source": [
    "R = 11.91\n",
    "L = 93.27*10**(-3)\n",
    "C = 10.157*10**(-9)\n",
    "\n",
    "popt_1, pcov_1 = curve_fit(f,frequency_1,curr_amp_1,bounds=([0.95*R,0.95*L,0.95*C], [1.05*R,1.05*L,1.05*C]))\n",
    "print(popt_1)\n",
    "print(pcov_1)"
   ]
  },
  {
   "cell_type": "code",
   "execution_count": 17,
   "metadata": {},
   "outputs": [
    {
     "name": "stdout",
     "output_type": "stream",
     "text": [
      "[9.46076708e+02 9.07889510e-02 1.03007133e-08]\n",
      "[[ 3.08895661e-24 -1.87695677e-14  7.92413791e-20]\n",
      " [-1.87695677e-14  1.14050379e-04 -4.81497999e-10]\n",
      " [ 7.92413791e-20 -4.81497999e-10  2.09039270e-15]]\n"
     ]
    }
   ],
   "source": [
    "R = 993.9\n",
    "L = 93.27*10**(-3)\n",
    "C = 10.157*10**(-9)\n",
    "\n",
    "popt_2, pcov_2 = curve_fit(f,frequency_2,curr_amp_2,bounds=([0.95*R,0.95*L,0.95*C], [1.05*R,1.05*L,1.05*C]))\n",
    "print(popt_2)\n",
    "print(pcov_2)"
   ]
  },
  {
   "cell_type": "code",
   "execution_count": 18,
   "metadata": {},
   "outputs": [
    {
     "name": "stdout",
     "output_type": "stream",
     "text": [
      "[2.20000000e+03 9.00266474e-02 9.64915263e-09]\n",
      "[[ 9.94499978e-19  3.02263457e-11 -4.17720072e-16]\n",
      " [ 3.02263457e-11  9.18684762e-04 -1.26959795e-08]\n",
      " [-4.17720072e-16 -1.26959795e-08  1.75458191e-13]]\n"
     ]
    }
   ],
   "source": [
    "R = 2200\n",
    "L = 93.27*10**(-3)\n",
    "C = 10.157*10**(-9)\n",
    "\n",
    "popt_3, pcov_3 = curve_fit(f,frequency_1,curr_amp_1,bounds=([0.95*R,0.95*L,0.95*C], [1.05*R,1.05*L,1.05*C]))\n",
    "print(popt_3)\n",
    "print(pcov_3)"
   ]
  },
  {
   "cell_type": "code",
   "execution_count": 19,
   "metadata": {},
   "outputs": [],
   "source": [
    "R = 11.91\n",
    "L = 93.27*10**(-3)\n",
    "C = 10.157*10**(-9)\n",
    "\n",
    "trace_1 = go.Scattergl(\n",
    "    x=frequency_1,\n",
    "    y=curr_amp_1,\n",
    "    mode='markers',\n",
    "    name= f'Experiment : \\n R = {R:.2e} , L = {L:.2e} , C = {C:.2e} ' ,\n",
    ")\n",
    "num = 10000\n",
    "df = 5200/num\n",
    "x = [2000+i*df for i in range(num)]\n",
    "y = [f(i,R,L,C) for i in x]\n",
    "trace_2 = go.Scattergl(\n",
    "    x=x,\n",
    "    y=y,\n",
    "    mode='markers',\n",
    "    marker=dict(size=1),\n",
    "    name= f'Fitting Curve : \\n R = {popt_1[0]:.2e} , L = {popt_1[1]:.2e} , C = {popt_1[2]:.2e} ' ,\n",
    ")\n",
    "\n",
    "\n",
    "\n",
    "fig = go.Figure()\n",
    "fig.add_trace(trace_1)\n",
    "fig.add_trace(trace_2)\n",
    "\n",
    "Xaxis_title = \"Frequency\"\n",
    "Yaxis_title = \"Current Amp (A)\"\n",
    "fig['layout'].update(xaxis_title=Xaxis_title,\n",
    "                        yaxis_title=Yaxis_title,\n",
    "                        legend_title='sources',\n",
    "                        font=dict(family='Microsoft JhengHei', size=18,), xaxis=dict(tickangle=0)\n",
    "                        )\n",
    "\n",
    "fig.write_html('Output.html', auto_open=True)\n"
   ]
  },
  {
   "cell_type": "code",
   "execution_count": null,
   "metadata": {},
   "outputs": [],
   "source": []
  }
 ],
 "metadata": {
  "interpreter": {
   "hash": "f9d77b0e9f9ca67815d5a1c7db8aa306d48fa5c14152701c5d5c5c11f6164f8b"
  },
  "kernelspec": {
   "display_name": "Python 3.9.6 64-bit",
   "language": "python",
   "name": "python3"
  },
  "language_info": {
   "codemirror_mode": {
    "name": "ipython",
    "version": 3
   },
   "file_extension": ".py",
   "mimetype": "text/x-python",
   "name": "python",
   "nbconvert_exporter": "python",
   "pygments_lexer": "ipython3",
   "version": "3.9.6"
  },
  "orig_nbformat": 4
 },
 "nbformat": 4,
 "nbformat_minor": 2
}
